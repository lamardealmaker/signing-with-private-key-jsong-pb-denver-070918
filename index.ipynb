{
 "cells": [
  {
   "cell_type": "markdown",
   "metadata": {},
   "source": [
    "# Signing with a Private Key"
   ]
  },
  {
   "cell_type": "code",
   "execution_count": 2,
   "metadata": {},
   "outputs": [
    {
     "name": "stdout",
     "output_type": "stream",
     "text": [
      "0xcf6304e0ed625dc13713ad8b330ca764325f013fe7a3057dbe6a2053135abeb4 0x3fd0ce2ebb5fb1c2e471957f13225df4fb023771342b89dd21b09770532e73e3 0x18799cd2f7683b2f0e51b11bfc270558f1412c3783459fe88f33ee943a7f09bb\n",
      "==========\n",
      "Point(1953468027843800802925170596235937825164475810165197027149199811512646661492,59120681311850885220056534314674652481360305757776226951480641546728038708932)_115792089237316195423570985008687907853269984665640564039457584007908834671663\n"
     ]
    }
   ],
   "source": [
    "# Signing Example\n",
    "from random import randint\n",
    "\n",
    "from ecc import G, N\n",
    "from helper import double_sha256\n",
    "\n",
    "secret = 1800555555518005555555\n",
    "z = int.from_bytes(double_sha256(b'ECDSA is awesome!'), 'big')\n",
    "k = randint(0, 2**256)\n",
    "r = (k*G).x.num\n",
    "s = (z+r*secret) * pow(k, N-2, N) % N\n",
    "print(hex(z), hex(r), hex(s))\n",
    "print(\"==========\")\n",
    "print(secret*G)"
   ]
  },
  {
   "cell_type": "markdown",
   "metadata": {},
   "source": [
    "## Test Driven Exercise"
   ]
  },
  {
   "cell_type": "code",
   "execution_count": null,
   "metadata": {},
   "outputs": [],
   "source": [
    "from ecc import PrivateKey, Signature, S256Point, G, N\n",
    "from random import randint\n",
    "        \n",
    "class PrivateKey(PrivateKey):\n",
    "    \n",
    "    def sign(self, z):\n",
    "        # we need a random number k: randint(0, 2**256)\n",
    "        k = randint(0, 2**256)\n",
    "        # r is the x coordinate of the resulting point k*G\n",
    "        r = (k*G).x.num\n",
    "        # remember 1/k = pow(k, N-2, N)\n",
    "        k_inv = pow(k, N-2, N)\n",
    "        # s = (z+r*secret) / k\n",
    "        ## s must be less than N/2 if not, s = N - s\n",
    "        s = (z + r*self.secret) * k_inv % N\n",
    "        if s > N/2:\n",
    "            s = N - s\n",
    "        # return an instance of Signature:\n",
    "        # Signature(r, s)\n",
    "        return Signature(r, s)"
   ]
  }
 ],
 "metadata": {
  "kernelspec": {
   "display_name": "Python 3",
   "language": "python",
   "name": "python3"
  },
  "language_info": {
   "codemirror_mode": {
    "name": "ipython",
    "version": 3
   },
   "file_extension": ".py",
   "mimetype": "text/x-python",
   "name": "python",
   "nbconvert_exporter": "python",
   "pygments_lexer": "ipython3",
   "version": "3.6.4"
  }
 },
 "nbformat": 4,
 "nbformat_minor": 2
}
